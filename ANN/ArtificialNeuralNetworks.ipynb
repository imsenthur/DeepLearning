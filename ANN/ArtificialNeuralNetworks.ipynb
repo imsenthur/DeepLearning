{
 "cells": [
  {
   "cell_type": "code",
   "execution_count": 1,
   "metadata": {},
   "outputs": [
    {
     "name": "stderr",
     "output_type": "stream",
     "text": [
      "/usr/local/lib/python3.5/dist-packages/h5py/__init__.py:36: FutureWarning: Conversion of the second argument of issubdtype from `float` to `np.floating` is deprecated. In future, it will be treated as `np.float64 == np.dtype(float).type`.\n",
      "  from ._conv import register_converters as _register_converters\n",
      "Using TensorFlow backend.\n"
     ]
    }
   ],
   "source": [
    "import numpy as np\n",
    "import pandas as pd\n",
    "import keras"
   ]
  },
  {
   "cell_type": "code",
   "execution_count": 47,
   "metadata": {},
   "outputs": [],
   "source": [
    "# Importing the dataset\n",
    "dataset = pd.read_csv('Churn_Modelling.csv')\n",
    "X = dataset.iloc[:, 3:13].values\n",
    "y = dataset.iloc[:, 13].values\n"
   ]
  },
  {
   "cell_type": "code",
   "execution_count": 48,
   "metadata": {},
   "outputs": [],
   "source": [
    "\n",
    "# Encoding categorical data\n",
    "from sklearn.preprocessing import LabelEncoder, OneHotEncoder\n",
    "labelencoder_X_1 = LabelEncoder()\n",
    "X[:, 1] = labelencoder_X_1.fit_transform(X[:, 1])\n",
    "labelencoder_X_2 = LabelEncoder()\n",
    "X[:, 2] = labelencoder_X_2.fit_transform(X[:, 2])\n",
    "onehotencoder = OneHotEncoder(categorical_features = [1])\n",
    "X = onehotencoder.fit_transform(X).toarray()\n",
    "X = X[:, 1:]"
   ]
  },
  {
   "cell_type": "code",
   "execution_count": 49,
   "metadata": {},
   "outputs": [],
   "source": [
    "from sklearn.model_selection import train_test_split\n",
    "X_train, X_test, y_train, y_test = train_test_split(X, y, test_size = 0.25)"
   ]
  },
  {
   "cell_type": "code",
   "execution_count": 50,
   "metadata": {},
   "outputs": [],
   "source": [
    "from sklearn.preprocessing import StandardScaler\n",
    "sca = StandardScaler()\n",
    "X_train = sca.fit_transform(X_train)\n",
    "X_test = sca.fit_transform(X_test)"
   ]
  },
  {
   "cell_type": "code",
   "execution_count": 51,
   "metadata": {},
   "outputs": [],
   "source": [
    "import keras\n",
    "from keras.models import Sequential\n",
    "from keras.layers import Dense\n",
    "model = Sequential()"
   ]
  },
  {
   "cell_type": "code",
   "execution_count": 52,
   "metadata": {},
   "outputs": [
    {
     "name": "stderr",
     "output_type": "stream",
     "text": [
      "/usr/local/lib/python3.5/dist-packages/ipykernel_launcher.py:1: UserWarning: Update your `Dense` call to the Keras 2 API: `Dense(units=6, kernel_initializer=\"uniform\", activation=\"relu\", input_dim=11)`\n",
      "  \"\"\"Entry point for launching an IPython kernel.\n",
      "/usr/local/lib/python3.5/dist-packages/ipykernel_launcher.py:2: UserWarning: Update your `Dense` call to the Keras 2 API: `Dense(activation=\"relu\", kernel_initializer=\"uniform\", units=6)`\n",
      "  \n",
      "/usr/local/lib/python3.5/dist-packages/ipykernel_launcher.py:3: UserWarning: Update your `Dense` call to the Keras 2 API: `Dense(activation=\"sigmoid\", kernel_initializer=\"uniform\", units=1)`\n",
      "  This is separate from the ipykernel package so we can avoid doing imports until\n"
     ]
    }
   ],
   "source": [
    "model.add(Dense(input_dim = 11, output_dim = 6, init = 'uniform' ,activation='relu'))\n",
    "model.add(Dense(output_dim = 6, init = 'uniform', activation='relu'))\n",
    "model.add(Dense(output_dim = 1, init = 'uniform', activation= 'sigmoid'))"
   ]
  },
  {
   "cell_type": "code",
   "execution_count": 53,
   "metadata": {},
   "outputs": [
    {
     "name": "stdout",
     "output_type": "stream",
     "text": [
      "Epoch 1/100\n",
      "7500/7500 [==============================] - 9s 1ms/step - loss: 0.4827 - acc: 0.7960\n",
      "Epoch 2/100\n",
      "7500/7500 [==============================] - 2s 267us/step - loss: 0.4247 - acc: 0.7961\n",
      "Epoch 3/100\n",
      "7500/7500 [==============================] - 2s 267us/step - loss: 0.4196 - acc: 0.8039\n",
      "Epoch 4/100\n",
      "7500/7500 [==============================] - 2s 268us/step - loss: 0.4165 - acc: 0.8267\n",
      "Epoch 5/100\n",
      "7500/7500 [==============================] - 2s 266us/step - loss: 0.4153 - acc: 0.8281\n",
      "Epoch 6/100\n",
      "7500/7500 [==============================] - 2s 266us/step - loss: 0.4133 - acc: 0.8323\n",
      "Epoch 7/100\n",
      "7500/7500 [==============================] - 2s 272us/step - loss: 0.4121 - acc: 0.8316\n",
      "Epoch 8/100\n",
      "7500/7500 [==============================] - 2s 270us/step - loss: 0.4110 - acc: 0.8339\n",
      "Epoch 9/100\n",
      "7500/7500 [==============================] - 2s 275us/step - loss: 0.4100 - acc: 0.8320\n",
      "Epoch 10/100\n",
      "7500/7500 [==============================] - 2s 269us/step - loss: 0.4082 - acc: 0.8333\n",
      "Epoch 11/100\n",
      "7500/7500 [==============================] - 2s 267us/step - loss: 0.4083 - acc: 0.8345\n",
      "Epoch 12/100\n",
      "7500/7500 [==============================] - 2s 267us/step - loss: 0.4077 - acc: 0.8339\n",
      "Epoch 13/100\n",
      "7500/7500 [==============================] - 2s 270us/step - loss: 0.4071 - acc: 0.8345\n",
      "Epoch 14/100\n",
      "7500/7500 [==============================] - 2s 268us/step - loss: 0.4061 - acc: 0.8344\n",
      "Epoch 15/100\n",
      "7500/7500 [==============================] - 2s 269us/step - loss: 0.4058 - acc: 0.8331\n",
      "Epoch 16/100\n",
      "7500/7500 [==============================] - 2s 266us/step - loss: 0.4052 - acc: 0.8357\n",
      "Epoch 17/100\n",
      "7500/7500 [==============================] - 2s 270us/step - loss: 0.4050 - acc: 0.8344\n",
      "Epoch 18/100\n",
      "7500/7500 [==============================] - 2s 272us/step - loss: 0.4049 - acc: 0.8333\n",
      "Epoch 19/100\n",
      "7500/7500 [==============================] - 2s 268us/step - loss: 0.4044 - acc: 0.8359\n",
      "Epoch 20/100\n",
      "7500/7500 [==============================] - 2s 272us/step - loss: 0.4032 - acc: 0.8356\n",
      "Epoch 21/100\n",
      "7500/7500 [==============================] - 2s 272us/step - loss: 0.4026 - acc: 0.8345\n",
      "Epoch 22/100\n",
      "7500/7500 [==============================] - 2s 274us/step - loss: 0.4018 - acc: 0.8363\n",
      "Epoch 23/100\n",
      "7500/7500 [==============================] - 2s 273us/step - loss: 0.4014 - acc: 0.8361\n",
      "Epoch 24/100\n",
      "7500/7500 [==============================] - 2s 270us/step - loss: 0.4003 - acc: 0.8361\n",
      "Epoch 25/100\n",
      "7500/7500 [==============================] - 2s 270us/step - loss: 0.3995 - acc: 0.8359\n",
      "Epoch 26/100\n",
      "7500/7500 [==============================] - 2s 269us/step - loss: 0.3992 - acc: 0.8361\n",
      "Epoch 27/100\n",
      "7500/7500 [==============================] - 2s 269us/step - loss: 0.3988 - acc: 0.8353\n",
      "Epoch 28/100\n",
      "7500/7500 [==============================] - 2s 276us/step - loss: 0.3984 - acc: 0.8365\n",
      "Epoch 29/100\n",
      "7500/7500 [==============================] - 2s 272us/step - loss: 0.3975 - acc: 0.8377\n",
      "Epoch 30/100\n",
      "7500/7500 [==============================] - 2s 273us/step - loss: 0.3967 - acc: 0.8359\n",
      "Epoch 31/100\n",
      "7500/7500 [==============================] - 2s 272us/step - loss: 0.3975 - acc: 0.8371\n",
      "Epoch 32/100\n",
      "7500/7500 [==============================] - 2s 270us/step - loss: 0.3967 - acc: 0.8369\n",
      "Epoch 33/100\n",
      "7500/7500 [==============================] - 2s 271us/step - loss: 0.3968 - acc: 0.8361\n",
      "Epoch 34/100\n",
      "7500/7500 [==============================] - 2s 273us/step - loss: 0.3963 - acc: 0.8392\n",
      "Epoch 35/100\n",
      "7500/7500 [==============================] - 2s 273us/step - loss: 0.3958 - acc: 0.8376\n",
      "Epoch 36/100\n",
      "7500/7500 [==============================] - 2s 273us/step - loss: 0.3959 - acc: 0.8369\n",
      "Epoch 37/100\n",
      "7500/7500 [==============================] - 2s 271us/step - loss: 0.3954 - acc: 0.8380\n",
      "Epoch 38/100\n",
      "7500/7500 [==============================] - 2s 274us/step - loss: 0.3949 - acc: 0.8375\n",
      "Epoch 39/100\n",
      "7500/7500 [==============================] - 2s 275us/step - loss: 0.3948 - acc: 0.8380\n",
      "Epoch 40/100\n",
      "7500/7500 [==============================] - 2s 279us/step - loss: 0.3952 - acc: 0.8387\n",
      "Epoch 41/100\n",
      "7500/7500 [==============================] - 2s 276us/step - loss: 0.3949 - acc: 0.8385\n",
      "Epoch 42/100\n",
      "7500/7500 [==============================] - 2s 279us/step - loss: 0.3948 - acc: 0.8373\n",
      "Epoch 43/100\n",
      "7500/7500 [==============================] - 2s 278us/step - loss: 0.3952 - acc: 0.8372\n",
      "Epoch 44/100\n",
      "7500/7500 [==============================] - 2s 283us/step - loss: 0.3945 - acc: 0.8364\n",
      "Epoch 45/100\n",
      "7500/7500 [==============================] - 2s 278us/step - loss: 0.3951 - acc: 0.8377\n",
      "Epoch 46/100\n",
      "7500/7500 [==============================] - 2s 308us/step - loss: 0.3951 - acc: 0.8371\n",
      "Epoch 47/100\n",
      "7500/7500 [==============================] - 2s 307us/step - loss: 0.3949 - acc: 0.8363\n",
      "Epoch 48/100\n",
      "7500/7500 [==============================] - 2s 280us/step - loss: 0.3947 - acc: 0.8373\n",
      "Epoch 49/100\n",
      "7500/7500 [==============================] - 2s 287us/step - loss: 0.3942 - acc: 0.8383\n",
      "Epoch 50/100\n",
      "7500/7500 [==============================] - 2s 279us/step - loss: 0.3948 - acc: 0.8385\n",
      "Epoch 51/100\n",
      "7500/7500 [==============================] - 2s 257us/step - loss: 0.3944 - acc: 0.8379\n",
      "Epoch 52/100\n",
      "7500/7500 [==============================] - 2s 284us/step - loss: 0.3943 - acc: 0.8379\n",
      "Epoch 53/100\n",
      "7500/7500 [==============================] - 2s 277us/step - loss: 0.3949 - acc: 0.8377\n",
      "Epoch 54/100\n",
      "7500/7500 [==============================] - 2s 275us/step - loss: 0.3939 - acc: 0.8403\n",
      "Epoch 55/100\n",
      "7500/7500 [==============================] - 2s 323us/step - loss: 0.3936 - acc: 0.8392\n",
      "Epoch 56/100\n",
      "7500/7500 [==============================] - 2s 275us/step - loss: 0.3939 - acc: 0.8385\n",
      "Epoch 57/100\n",
      "7500/7500 [==============================] - 2s 274us/step - loss: 0.3937 - acc: 0.8364\n",
      "Epoch 58/100\n",
      "7500/7500 [==============================] - 3s 365us/step - loss: 0.3943 - acc: 0.8365\n",
      "Epoch 59/100\n",
      "7500/7500 [==============================] - 2s 320us/step - loss: 0.3943 - acc: 0.8381\n",
      "Epoch 60/100\n",
      "7500/7500 [==============================] - 2s 261us/step - loss: 0.3938 - acc: 0.8369\n",
      "Epoch 61/100\n",
      "7500/7500 [==============================] - 2s 282us/step - loss: 0.3943 - acc: 0.8381\n",
      "Epoch 62/100\n",
      "7500/7500 [==============================] - 2s 280us/step - loss: 0.3939 - acc: 0.8379\n",
      "Epoch 63/100\n",
      "7500/7500 [==============================] - 3s 338us/step - loss: 0.3942 - acc: 0.8387\n",
      "Epoch 64/100\n",
      "7500/7500 [==============================] - 2s 283us/step - loss: 0.3943 - acc: 0.8365\n",
      "Epoch 65/100\n",
      "7500/7500 [==============================] - 2s 281us/step - loss: 0.3934 - acc: 0.8395\n",
      "Epoch 66/100\n",
      "7500/7500 [==============================] - 2s 262us/step - loss: 0.3943 - acc: 0.8373\n",
      "Epoch 67/100\n",
      "7500/7500 [==============================] - 2s 291us/step - loss: 0.3938 - acc: 0.8379\n",
      "Epoch 68/100\n",
      "7500/7500 [==============================] - 2s 308us/step - loss: 0.3929 - acc: 0.8372\n",
      "Epoch 69/100\n",
      "7500/7500 [==============================] - 3s 367us/step - loss: 0.3940 - acc: 0.8384\n",
      "Epoch 70/100\n",
      "7500/7500 [==============================] - 3s 410us/step - loss: 0.3934 - acc: 0.8392\n",
      "Epoch 71/100\n",
      "7500/7500 [==============================] - 3s 411us/step - loss: 0.3940 - acc: 0.8369\n",
      "Epoch 72/100\n",
      "7500/7500 [==============================] - 3s 407us/step - loss: 0.3938 - acc: 0.8383\n",
      "Epoch 73/100\n",
      "7500/7500 [==============================] - 3s 354us/step - loss: 0.3939 - acc: 0.8383\n",
      "Epoch 74/100\n",
      "7500/7500 [==============================] - 2s 297us/step - loss: 0.3941 - acc: 0.8360\n",
      "Epoch 75/100\n",
      "7500/7500 [==============================] - 2s 268us/step - loss: 0.3937 - acc: 0.8383\n",
      "Epoch 76/100\n",
      "7500/7500 [==============================] - 2s 273us/step - loss: 0.3936 - acc: 0.8375\n",
      "Epoch 77/100\n",
      "7500/7500 [==============================] - 2s 284us/step - loss: 0.3936 - acc: 0.8376\n",
      "Epoch 78/100\n",
      "7500/7500 [==============================] - 2s 278us/step - loss: 0.3936 - acc: 0.8381\n",
      "Epoch 79/100\n",
      "7500/7500 [==============================] - 2s 287us/step - loss: 0.3933 - acc: 0.8369\n",
      "Epoch 80/100\n",
      "7500/7500 [==============================] - 2s 281us/step - loss: 0.3930 - acc: 0.8381\n",
      "Epoch 81/100\n",
      "7500/7500 [==============================] - 2s 286us/step - loss: 0.3934 - acc: 0.8368\n",
      "Epoch 82/100\n"
     ]
    },
    {
     "name": "stdout",
     "output_type": "stream",
     "text": [
      "7500/7500 [==============================] - 2s 284us/step - loss: 0.3934 - acc: 0.8387\n",
      "Epoch 83/100\n",
      "7500/7500 [==============================] - 2s 301us/step - loss: 0.3930 - acc: 0.8385\n",
      "Epoch 84/100\n",
      "7500/7500 [==============================] - 2s 294us/step - loss: 0.3934 - acc: 0.8369\n",
      "Epoch 85/100\n",
      "7500/7500 [==============================] - 2s 289us/step - loss: 0.3933 - acc: 0.8383\n",
      "Epoch 86/100\n",
      "7500/7500 [==============================] - 3s 369us/step - loss: 0.3932 - acc: 0.8355\n",
      "Epoch 87/100\n",
      "7500/7500 [==============================] - 2s 289us/step - loss: 0.3935 - acc: 0.8368\n",
      "Epoch 88/100\n",
      "7500/7500 [==============================] - 2s 276us/step - loss: 0.3931 - acc: 0.8389\n",
      "Epoch 89/100\n",
      "7500/7500 [==============================] - 2s 313us/step - loss: 0.3930 - acc: 0.8384\n",
      "Epoch 90/100\n",
      "7500/7500 [==============================] - 2s 300us/step - loss: 0.3932 - acc: 0.8383\n",
      "Epoch 91/100\n",
      "7500/7500 [==============================] - 3s 375us/step - loss: 0.3932 - acc: 0.8381\n",
      "Epoch 92/100\n",
      "7500/7500 [==============================] - 2s 300us/step - loss: 0.3924 - acc: 0.8377\n",
      "Epoch 93/100\n",
      "7500/7500 [==============================] - 2s 299us/step - loss: 0.3931 - acc: 0.8393\n",
      "Epoch 94/100\n",
      "7500/7500 [==============================] - 2s 324us/step - loss: 0.3928 - acc: 0.8396\n",
      "Epoch 95/100\n",
      "7500/7500 [==============================] - 2s 269us/step - loss: 0.3920 - acc: 0.8389\n",
      "Epoch 96/100\n",
      "7500/7500 [==============================] - 2s 296us/step - loss: 0.3928 - acc: 0.8379\n",
      "Epoch 97/100\n",
      "7500/7500 [==============================] - 2s 286us/step - loss: 0.3929 - acc: 0.8388\n",
      "Epoch 98/100\n",
      "7500/7500 [==============================] - 2s 314us/step - loss: 0.3930 - acc: 0.8399\n",
      "Epoch 99/100\n",
      "7500/7500 [==============================] - 3s 339us/step - loss: 0.3927 - acc: 0.8389\n",
      "Epoch 100/100\n",
      "7500/7500 [==============================] - 2s 303us/step - loss: 0.3934 - acc: 0.8376\n"
     ]
    },
    {
     "data": {
      "text/plain": [
       "<keras.callbacks.History at 0x7f5a53699b38>"
      ]
     },
     "execution_count": 53,
     "metadata": {},
     "output_type": "execute_result"
    }
   ],
   "source": [
    "model.compile(optimizer='adam', loss='binary_crossentropy' ,metrics=['accuracy'])\n",
    "model.fit(X_train, y_train, batch_size= 10, epochs=100)"
   ]
  },
  {
   "cell_type": "code",
   "execution_count": 54,
   "metadata": {},
   "outputs": [],
   "source": [
    "# Predicting the Test set results\n",
    "y_pred = model.predict(X_test)\n",
    "y_pred = (y_pred > 0.5)\n",
    "\n",
    "# Making the Confusion Matrix\n",
    "from sklearn.metrics import confusion_matrix\n",
    "cm = confusion_matrix(y_test, y_pred)"
   ]
  },
  {
   "cell_type": "code",
   "execution_count": null,
   "metadata": {},
   "outputs": [],
   "source": []
  }
 ],
 "metadata": {
  "kernelspec": {
   "display_name": "Python 3",
   "language": "python",
   "name": "python3"
  },
  "language_info": {
   "codemirror_mode": {
    "name": "ipython",
    "version": 3
   },
   "file_extension": ".py",
   "mimetype": "text/x-python",
   "name": "python",
   "nbconvert_exporter": "python",
   "pygments_lexer": "ipython3",
   "version": "3.5.2"
  }
 },
 "nbformat": 4,
 "nbformat_minor": 2
}
