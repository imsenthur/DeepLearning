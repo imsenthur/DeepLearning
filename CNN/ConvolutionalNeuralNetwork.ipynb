{
 "cells": [
  {
   "cell_type": "code",
   "execution_count": 1,
   "metadata": {},
   "outputs": [
    {
     "name": "stderr",
     "output_type": "stream",
     "text": [
      "/usr/local/lib/python3.5/dist-packages/h5py/__init__.py:36: FutureWarning: Conversion of the second argument of issubdtype from `float` to `np.floating` is deprecated. In future, it will be treated as `np.float64 == np.dtype(float).type`.\n",
      "  from ._conv import register_converters as _register_converters\n",
      "Using TensorFlow backend.\n"
     ]
    }
   ],
   "source": [
    "import keras\n",
    "from keras.models import Sequential\n",
    "from keras.layers import Convolution2D, MaxPooling2D, Dense, Flatten"
   ]
  },
  {
   "cell_type": "code",
   "execution_count": 2,
   "metadata": {},
   "outputs": [
    {
     "name": "stderr",
     "output_type": "stream",
     "text": [
      "/usr/local/lib/python3.5/dist-packages/ipykernel_launcher.py:2: UserWarning: Update your `Conv2D` call to the Keras 2 API: `Conv2D(32, (3, 3), input_shape=(64, 64, 3..., activation=\"relu\")`\n",
      "  \n",
      "/usr/local/lib/python3.5/dist-packages/ipykernel_launcher.py:5: UserWarning: Update your `Dense` call to the Keras 2 API: `Dense(units=128, activation=\"relu\")`\n",
      "  \"\"\"\n",
      "/usr/local/lib/python3.5/dist-packages/ipykernel_launcher.py:6: UserWarning: Update your `Dense` call to the Keras 2 API: `Dense(units=1, activation=\"sigmoid\")`\n",
      "  \n"
     ]
    }
   ],
   "source": [
    "model = Sequential()\n",
    "model.add(Convolution2D(32, 3, 3, input_shape = (64, 64, 3), activation='relu'))\n",
    "model.add(MaxPooling2D(pool_size=(2,2)))\n",
    "model.add(Flatten())\n",
    "model.add(Dense(output_dim = 128, activation='relu'))\n",
    "model.add(Dense(output_dim = 1, activation='sigmoid'))\n",
    "model.compile(optimizer='adam', loss='binary_crossentropy', metrics=['accuracy'])"
   ]
  },
  {
   "cell_type": "code",
   "execution_count": 3,
   "metadata": {},
   "outputs": [],
   "source": [
    "from keras.preprocessing.image import ImageDataGenerator\n",
    "\n",
    "train_gen = ImageDataGenerator(rescale=1./255, shear_range=0.2, zoom_range=0.2, horizontal_flip=True)\n",
    "test_gen = ImageDataGenerator(rescale=1./255)"
   ]
  },
  {
   "cell_type": "code",
   "execution_count": 4,
   "metadata": {},
   "outputs": [
    {
     "name": "stdout",
     "output_type": "stream",
     "text": [
      "Found 8000 images belonging to 2 classes.\n",
      "Found 2000 images belonging to 2 classes.\n"
     ]
    }
   ],
   "source": [
    "train = train_gen.flow_from_directory(directory='dataset/training_set', \n",
    "                                      target_size=(64, 64), \n",
    "                                      class_mode='binary', \n",
    "                                      batch_size=32)\n",
    "\n",
    "test = test_gen.flow_from_directory(directory='dataset/test_set/',\n",
    "                                    target_size=(64, 64),\n",
    "                                    batch_size=32,\n",
    "                                    class_mode='binary')"
   ]
  },
  {
   "cell_type": "code",
   "execution_count": 5,
   "metadata": {},
   "outputs": [
    {
     "name": "stderr",
     "output_type": "stream",
     "text": [
      "/usr/local/lib/python3.5/dist-packages/ipykernel_launcher.py:1: UserWarning: The semantics of the Keras 2 argument `steps_per_epoch` is not the same as the Keras 1 argument `samples_per_epoch`. `steps_per_epoch` is the number of batches to draw from the generator at each epoch. Basically steps_per_epoch = samples_per_epoch/batch_size. Similarly `nb_val_samples`->`validation_steps` and `val_samples`->`steps` arguments have changed. Update your method calls accordingly.\n",
      "  \"\"\"Entry point for launching an IPython kernel.\n",
      "/usr/local/lib/python3.5/dist-packages/ipykernel_launcher.py:1: UserWarning: Update your `fit_generator` call to the Keras 2 API: `fit_generator(epochs=25, generator=<keras.pre..., validation_data=<keras.pre..., validation_steps=32, steps_per_epoch=250)`\n",
      "  \"\"\"Entry point for launching an IPython kernel.\n"
     ]
    },
    {
     "name": "stdout",
     "output_type": "stream",
     "text": [
      "Epoch 1/25\n",
      "250/250 [==============================] - 35s 139ms/step - loss: 0.6786 - acc: 0.5979 - val_loss: 0.6446 - val_acc: 0.6143\n",
      "Epoch 2/25\n",
      "250/250 [==============================] - 24s 98ms/step - loss: 0.6100 - acc: 0.6694 - val_loss: 0.6020 - val_acc: 0.6709\n",
      "Epoch 3/25\n",
      "250/250 [==============================] - 25s 98ms/step - loss: 0.5752 - acc: 0.6990 - val_loss: 0.5896 - val_acc: 0.6875\n",
      "Epoch 4/25\n",
      "250/250 [==============================] - 24s 97ms/step - loss: 0.5526 - acc: 0.7142 - val_loss: 0.5478 - val_acc: 0.7109\n",
      "Epoch 5/25\n",
      "250/250 [==============================] - 24s 97ms/step - loss: 0.5491 - acc: 0.7204 - val_loss: 0.5716 - val_acc: 0.7031\n",
      "Epoch 6/25\n",
      "250/250 [==============================] - 24s 97ms/step - loss: 0.5295 - acc: 0.7321 - val_loss: 0.6684 - val_acc: 0.6523\n",
      "Epoch 7/25\n",
      "250/250 [==============================] - 24s 97ms/step - loss: 0.5191 - acc: 0.7368 - val_loss: 0.5955 - val_acc: 0.6709\n",
      "Epoch 8/25\n",
      "250/250 [==============================] - 24s 98ms/step - loss: 0.5102 - acc: 0.7467 - val_loss: 0.5177 - val_acc: 0.7471\n",
      "Epoch 9/25\n",
      "250/250 [==============================] - 24s 97ms/step - loss: 0.4932 - acc: 0.7606 - val_loss: 0.5466 - val_acc: 0.7207\n",
      "Epoch 10/25\n",
      "250/250 [==============================] - 25s 98ms/step - loss: 0.4960 - acc: 0.7575 - val_loss: 0.5780 - val_acc: 0.7002\n",
      "Epoch 11/25\n",
      "250/250 [==============================] - 24s 98ms/step - loss: 0.4809 - acc: 0.7656 - val_loss: 0.5395 - val_acc: 0.7520\n",
      "Epoch 12/25\n",
      "250/250 [==============================] - 24s 98ms/step - loss: 0.4789 - acc: 0.7721 - val_loss: 0.5181 - val_acc: 0.7646\n",
      "Epoch 13/25\n",
      "250/250 [==============================] - 25s 100ms/step - loss: 0.4667 - acc: 0.7749 - val_loss: 0.5545 - val_acc: 0.7412\n",
      "Epoch 14/25\n",
      "250/250 [==============================] - 24s 97ms/step - loss: 0.4616 - acc: 0.7748 - val_loss: 0.5167 - val_acc: 0.7578\n",
      "Epoch 15/25\n",
      "250/250 [==============================] - 24s 97ms/step - loss: 0.4562 - acc: 0.7840 - val_loss: 0.5402 - val_acc: 0.7480\n",
      "Epoch 16/25\n",
      "250/250 [==============================] - 24s 97ms/step - loss: 0.4452 - acc: 0.7869 - val_loss: 0.5729 - val_acc: 0.7295\n",
      "Epoch 17/25\n",
      "250/250 [==============================] - 24s 97ms/step - loss: 0.4494 - acc: 0.7868 - val_loss: 0.6072 - val_acc: 0.7314\n",
      "Epoch 18/25\n",
      "250/250 [==============================] - 24s 98ms/step - loss: 0.4403 - acc: 0.7859 - val_loss: 0.5545 - val_acc: 0.7578\n",
      "Epoch 19/25\n",
      "250/250 [==============================] - 24s 97ms/step - loss: 0.4327 - acc: 0.7925 - val_loss: 0.5571 - val_acc: 0.7539\n",
      "Epoch 20/25\n",
      "250/250 [==============================] - 24s 97ms/step - loss: 0.4269 - acc: 0.8005 - val_loss: 0.6548 - val_acc: 0.7041\n",
      "Epoch 21/25\n",
      "250/250 [==============================] - 24s 97ms/step - loss: 0.4251 - acc: 0.8019 - val_loss: 0.5775 - val_acc: 0.7383\n",
      "Epoch 22/25\n",
      "250/250 [==============================] - 25s 98ms/step - loss: 0.4140 - acc: 0.8089 - val_loss: 0.5912 - val_acc: 0.7451\n",
      "Epoch 23/25\n",
      "250/250 [==============================] - 30s 120ms/step - loss: 0.4162 - acc: 0.8096 - val_loss: 0.5589 - val_acc: 0.7725\n",
      "Epoch 24/25\n",
      "250/250 [==============================] - 30s 120ms/step - loss: 0.4133 - acc: 0.8089 - val_loss: 0.5773 - val_acc: 0.7549\n",
      "Epoch 25/25\n",
      "250/250 [==============================] - 30s 119ms/step - loss: 0.4034 - acc: 0.8123 - val_loss: 0.5991 - val_acc: 0.7324\n"
     ]
    },
    {
     "data": {
      "text/plain": [
       "<keras.callbacks.History at 0x7f2db67a1c50>"
      ]
     },
     "execution_count": 5,
     "metadata": {},
     "output_type": "execute_result"
    }
   ],
   "source": [
    "model.fit_generator(generator=train, steps_per_epoch= 250, nb_epoch=25, validation_data=test, validation_steps=32)"
   ]
  },
  {
   "cell_type": "code",
   "execution_count": 6,
   "metadata": {},
   "outputs": [],
   "source": [
    "model.save('1l_model.h5')"
   ]
  },
  {
   "cell_type": "code",
   "execution_count": 7,
   "metadata": {},
   "outputs": [],
   "source": []
  },
  {
   "cell_type": "code",
   "execution_count": 8,
   "metadata": {},
   "outputs": [],
   "source": []
  },
  {
   "cell_type": "code",
   "execution_count": 9,
   "metadata": {},
   "outputs": [],
   "source": []
  },
  {
   "cell_type": "code",
   "execution_count": null,
   "metadata": {},
   "outputs": [],
   "source": []
  },
  {
   "cell_type": "code",
   "execution_count": null,
   "metadata": {},
   "outputs": [],
   "source": []
  }
 ],
 "metadata": {
  "kernelspec": {
   "display_name": "Python 3",
   "language": "python",
   "name": "python3"
  },
  "language_info": {
   "codemirror_mode": {
    "name": "ipython",
    "version": 3
   },
   "file_extension": ".py",
   "mimetype": "text/x-python",
   "name": "python",
   "nbconvert_exporter": "python",
   "pygments_lexer": "ipython3",
   "version": "3.5.2"
  }
 },
 "nbformat": 4,
 "nbformat_minor": 2
}
